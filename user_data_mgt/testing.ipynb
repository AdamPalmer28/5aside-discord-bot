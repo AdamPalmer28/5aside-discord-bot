{
 "cells": [
  {
   "cell_type": "code",
   "execution_count": 1,
   "metadata": {},
   "outputs": [],
   "source": [
    "x = {184737297734959104 : {'Name': ['adam'],\n",
    "                        'avaliability': {'2023-06-15': 'yes',\n",
    "                                        '2023-06-08': 'yes',\n",
    "                                        '2023-06-01': 'yes',\n",
    "                                        '2023-05-25': 'yes'},\n",
    "                        'paid': {'2023-06-15': True,\n",
    "                                 '2023-06-08': True,\n",
    "                                '2023-06-01': True,\n",
    "                                '2023-05-25': True},\n",
    "                        'goal': {'2023-06-01': 0,\n",
    "                                '2023-05-25': 0},\n",
    "                        'assist': {'2023-06-15': 1,\n",
    "                                '2023-06-01': 0,\n",
    "                                '2023-05-25': 0},\n",
    "                        'motm-vote': {},\n",
    "                        'motm': {}  \n",
    "                            },\n",
    "\n",
    "     462409072176791564 : {'Name': ['matty'],\n",
    "                        'avaliability': {'2023-06-15': 'yes',\n",
    "                                        '2023-06-08': 'yes',\n",
    "                                        '2023-06-01': 'yes',\n",
    "                                        '2023-05-25': 'yes'},\n",
    "                        'paid': {'2023-06-15': True,\n",
    "                                 '2023-06-08': True,\n",
    "                                '2023-06-01': True,\n",
    "                                '2023-05-25': True},\n",
    "                        'goal': {'2023-06-15': 1,\n",
    "                                '2023-06-08': 2,\n",
    "                                '2023-06-01': 0,\n",
    "                                '2023-05-25': 0},\n",
    "                        'assist': {'2023-06-15': 1,\n",
    "                                 '2023-06-01': 0,\n",
    "                                '2023-05-25': 1},\n",
    "                        'motm-vote': {},\n",
    "                        'motm': {'2023-06-08': 1}                            \n",
    "                           },\n",
    "\n",
    "     265573788232581120 : {'Name': ['tommy'],\n",
    "                        'avaliability': {'2023-06-08': 'yes',\n",
    "                                        '2023-06-01': 'yes',\n",
    "                                        '2023-05-25': 'no'},\n",
    "                        'paid': {'2023-06-08': True,\n",
    "                                '2023-06-01': True},\n",
    "                        'goal': {'2023-06-01': 0,\n",
    "                                '2023-05-25': 0},\n",
    "                        'assist': {'2023-06-01': 0,\n",
    "                                '2023-05-25': 0},\n",
    "                        'motm-vote': {},\n",
    "                        'motm': {}       \n",
    "                            },   \n",
    "\n",
    "     454252561063477250 : {'Name': ['noz', 'lawrence'],\n",
    "                        'avaliability': {'2023-06-15': 'yes',\n",
    "                                        '2023-06-08': 'yes',\n",
    "                                        '2023-06-01': 'yes',\n",
    "                                        '2023-05-25': 'yes'},\n",
    "                        'paid': {'2023-06-15': True,\n",
    "                                 '2023-06-08': True,\n",
    "                                '2023-06-01': True,\n",
    "                                        '2023-05-25': True},\n",
    "                        'goal': {'2023-06-15': 1,\n",
    "                                 '2023-06-08': 1,\n",
    "                                 '2023-06-01': 0,\n",
    "                                '2023-05-25': 1},\n",
    "                        'assist': {'2023-06-01': 0,\n",
    "                                '2023-05-25': 0}, \n",
    "                        'motm-vote': {},\n",
    "                        'motm': {}      \n",
    "                            },  \n",
    "\n",
    "     462410416048308225 : {'Name': ['tom', 'Tom b'],\n",
    "                        'avaliability': {'2023-06-01': 'no',\n",
    "                                        '2023-05-25': 'yes'},\n",
    "                        'paid': {'2023-05-25': True},\n",
    "                        'goal': {'2023-06-01': 0,\n",
    "                                '2023-05-25': 0},\n",
    "                        'assist': {'2023-06-01': 0,\n",
    "                                '2023-05-25': 0},\n",
    "                        'motm-vote': {},\n",
    "                        'motm': {}       \n",
    "                            },\n",
    "\n",
    "     462654687225708555 : {'Name': ['tk', 'thomas'],\n",
    "                        'avaliability': {'2023-06-15': 'yes',\n",
    "                                        '2023-06-08': 'yes',\n",
    "                                        '2023-06-01': 'yes',\n",
    "                                        '2023-05-25': 'yes'},\n",
    "                        'paid': {'2023-06-15': True,\n",
    "                                 '2023-06-08': True,\n",
    "                                '2023-06-01': True,\n",
    "                                '2023-05-25': True},\n",
    "                        'goal': {'2023-06-08': 2,\n",
    "                                '2023-06-01': 1,\n",
    "                                '2023-05-25': 1},\n",
    "                        'assist': {'2023-06-15': 1,\n",
    "                                 '2023-06-01': 0,\n",
    "                                '2023-05-25': 0},\n",
    "                        'motm-vote': {},\n",
    "                        'motm': {}     \n",
    "                            },\n",
    "\n",
    "     265576326788808704 : {'Name': ['jack'],\n",
    "                        'avaliability': {'2023-06-15': 'yes',\n",
    "                                        '2023-06-08': 'yes',\n",
    "                                        '2023-06-01': 'yes',\n",
    "                                        '2023-05-25': 'yes'},\n",
    "                        'paid': {'2023-06-15': True,\n",
    "                                 '2023-06-08': True,\n",
    "                                '2023-06-01': True,\n",
    "                                '2023-05-25': True},\n",
    "                        'goal': {'2023-06-01': 0,\n",
    "                                '2023-05-25': 0},\n",
    "                        'assist': {'2023-06-01': 0,\n",
    "                                '2023-05-25': 0},\n",
    "                        'motm-vote': {},\n",
    "                        'motm': {}       \n",
    "                            }\n",
    "\n",
    "     }"
   ]
  },
  {
   "cell_type": "code",
   "execution_count": 1,
   "metadata": {},
   "outputs": [],
   "source": [
    "# autoreload modules\n",
    "%load_ext autoreload\n",
    "%autoreload 2"
   ]
  },
  {
   "cell_type": "code",
   "execution_count": 2,
   "metadata": {},
   "outputs": [],
   "source": [
    "import json\n",
    "\n",
    "# read data from json\n",
    "path = '//TRUENAS/Misc_storage/5aside_discord_bot/user_data/team_data.json'\n",
    "\n",
    "# with open(path, 'r') as f:\n",
    "#     data = json.load(f)\n",
    "\n",
    "# save data to json\n",
    "with open(path, 'w') as f:\n",
    "    json.dump(x, f, indent=4)\n",
    "\n",
    "\n"
   ]
  },
  {
   "cell_type": "code",
   "execution_count": 5,
   "metadata": {},
   "outputs": [],
   "source": [
    "from datetime import datetime as dt\n",
    "meta_data = {\n",
    "    'channel_id': {'test':1112672147412893696},\n",
    "    'admin_id': [184737297734959104],\n",
    "    'update_time': dt.time(18, 00).strftime('%H:%M'),\n",
    "    'fixtures': {\n",
    "        'last_attempt': dt(2023,6,17, 15, 0).strftime('%Y-%m-%d %H:%M:%S'),\n",
    "        'last_success': dt(2023,6,17, 15, 0).strftime('%Y-%m-%d %H:%M:%S')\n",
    "    },\n",
    "    'chasers': {\n",
    "        'available': dt(2023,6,17, 15, 0).strftime('%Y-%m-%d %H:%M:%S'),\n",
    "        'paid': dt(2023,6,17, 15, 0).strftime('%Y-%m-%d %H:%M:%S'),\n",
    "        'vote': dt(2023,6,17, 15, 0).strftime('%Y-%m-%d %H:%M:%S'),\n",
    "    }\n",
    "}"
   ]
  },
  {
   "cell_type": "code",
   "execution_count": 6,
   "metadata": {},
   "outputs": [],
   "source": [
    "import json\n",
    "# read data from json\n",
    "path = '//TRUENAS/Misc_storage/5aside_discord_bot/meta_data.json'\n",
    "\n",
    "# save data to json\n",
    "with open(path, 'w') as f:\n",
    "    json.dump(meta_data, f, indent=4)\n"
   ]
  },
  {
   "cell_type": "code",
   "execution_count": 19,
   "metadata": {},
   "outputs": [
    {
     "name": "stdout",
     "output_type": "stream",
     "text": [
      "0\n",
      "2023-06-22 00:00:00\n",
      "2023-06-29 00:00:00\n"
     ]
    }
   ],
   "source": [
    "from datetime import datetime as dt, timedelta\n",
    "dt_now = dt(2023,6,26, 0, 0)\n",
    "#dt_now = dt.now()\n",
    "dt_now = dt_now.replace(hour = 0, minute = 0, second = 0, microsecond = 0)\n",
    "day = dt_now.weekday()\n",
    "\n",
    "upcoming = dt_now + timedelta(days = (7 if day == 3 else ((3 - day) % 7)) )\n",
    "current = dt_now + timedelta(days = - ((day - 3) % 7) )\n",
    "\n"
   ]
  },
  {
   "cell_type": "code",
   "execution_count": 12,
   "metadata": {},
   "outputs": [
    {
     "data": {
      "text/plain": [
       "2"
      ]
     },
     "execution_count": 12,
     "metadata": {},
     "output_type": "execute_result"
    }
   ],
   "source": [
    "(day-3)%7"
   ]
  },
  {
   "cell_type": "code",
   "execution_count": 8,
   "metadata": {},
   "outputs": [
    {
     "data": {
      "text/plain": [
       "4"
      ]
     },
     "execution_count": 8,
     "metadata": {},
     "output_type": "execute_result"
    }
   ],
   "source": [
    "(3-6)%7"
   ]
  },
  {
   "cell_type": "code",
   "execution_count": 1,
   "metadata": {},
   "outputs": [
    {
     "ename": "TypeError",
     "evalue": "unsupported operand type(s) for +: 'int' and 'list'",
     "output_type": "error",
     "traceback": [
      "\u001b[1;31m---------------------------------------------------------------------------\u001b[0m",
      "\u001b[1;31mTypeError\u001b[0m                                 Traceback (most recent call last)",
      "Cell \u001b[1;32mIn[1], line 5\u001b[0m\n\u001b[0;32m      2\u001b[0m b \u001b[39m=\u001b[39m [\u001b[39m'\u001b[39m\u001b[39mtest3\u001b[39m\u001b[39m'\u001b[39m, \u001b[39m'\u001b[39m\u001b[39mtest4\u001b[39m\u001b[39m'\u001b[39m]\n\u001b[0;32m      3\u001b[0m c \u001b[39m=\u001b[39m [\u001b[39m'\u001b[39m\u001b[39mtest5\u001b[39m\u001b[39m'\u001b[39m, \u001b[39m'\u001b[39m\u001b[39mtest6\u001b[39m\u001b[39m'\u001b[39m]\n\u001b[1;32m----> 5\u001b[0m \u001b[39msum\u001b[39;49m([a,b,c])\n",
      "\u001b[1;31mTypeError\u001b[0m: unsupported operand type(s) for +: 'int' and 'list'"
     ]
    }
   ],
   "source": [
    "a = ['test', 'test2']\n",
    "b = ['test3', 'test4']\n",
    "c = ['test5', 'test6']\n",
    "\n"
   ]
  },
  {
   "cell_type": "code",
   "execution_count": null,
   "metadata": {},
   "outputs": [],
   "source": []
  }
 ],
 "metadata": {
  "kernelspec": {
   "display_name": "discord",
   "language": "python",
   "name": "python3"
  },
  "language_info": {
   "codemirror_mode": {
    "name": "ipython",
    "version": 3
   },
   "file_extension": ".py",
   "mimetype": "text/x-python",
   "name": "python",
   "nbconvert_exporter": "python",
   "pygments_lexer": "ipython3",
   "version": "3.11.3"
  },
  "orig_nbformat": 4
 },
 "nbformat": 4,
 "nbformat_minor": 2
}
