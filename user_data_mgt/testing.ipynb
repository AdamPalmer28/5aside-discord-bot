{
 "cells": [
  {
   "cell_type": "code",
   "execution_count": 16,
   "metadata": {},
   "outputs": [],
   "source": [
    "x = {184737297734959104 : {'Name': ['adam'],\n",
    "                        'avaliability': {'2023-06-01': 'yes',\n",
    "                                        '2023-05-25': 'yes'},\n",
    "                        'paid': {'2023-06-01': True,\n",
    "                                        '2023-05-25': True},\n",
    "                        'goal': {'2023-06-01': 0,\n",
    "                                '2023-05-25': 0},\n",
    "                        'assist': {'2023-06-01': 0,\n",
    "                                '2023-05-25': 0},\n",
    "                        'motm-vote': {},\n",
    "                        'motm': {}  \n",
    "                            },\n",
    "\n",
    "     462409072176791564 : {'Name': ['matty'],\n",
    "                        'avaliability': {'2023-06-01': 'yes',\n",
    "                                        '2023-05-25': 'yes'},\n",
    "                        'paid': {'2023-06-01': True,\n",
    "                                        '2023-05-25': True},\n",
    "                        'goal': {'2023-06-01': 0,\n",
    "                                '2023-05-25': 0},\n",
    "                        'assist': {'2023-06-01': 0,\n",
    "                                '2023-05-25': 1},\n",
    "                        'motm-vote': {},\n",
    "                        'motm': {}                             \n",
    "                           },\n",
    "\n",
    "     265573788232581120 : {'Name': ['tommy'],\n",
    "                        'avaliability': {'2023-06-01': 'yes',\n",
    "                                        '2023-05-25': 'no'},\n",
    "                        'paid': {'2023-06-01': True},\n",
    "                        'goal': {'2023-06-01': 0,\n",
    "                                '2023-05-25': 0},\n",
    "                        'assist': {'2023-06-01': 0,\n",
    "                                '2023-05-25': 0},\n",
    "                        'motm-vote': {},\n",
    "                        'motm': {}       \n",
    "                            },   \n",
    "\n",
    "     454252561063477250 : {'Name': ['noz', 'lawrence'],\n",
    "                        'avaliability': {'2023-06-01': 'yes',\n",
    "                                        '2023-05-25': 'yes'},\n",
    "                        'paid': {'2023-06-01': True,\n",
    "                                        '2023-05-25': True},\n",
    "                        'goal': {'2023-06-01': 0,\n",
    "                                '2023-05-25': 1},\n",
    "                        'assist': {'2023-06-01': 0,\n",
    "                                '2023-05-25': 0}, \n",
    "                        'motm-vote': {},\n",
    "                        'motm': {}      \n",
    "                            },  \n",
    "\n",
    "     462410416048308225 : {'Name': ['tom', 'Tom b'],\n",
    "                        'avaliability': {'2023-06-01': 'no',\n",
    "                                        '2023-05-25': 'yes'},\n",
    "                        'paid': {'2023-05-25': True},\n",
    "                        'goal': {'2023-06-01': 0,\n",
    "                                '2023-05-25': 0},\n",
    "                        'assist': {'2023-06-01': 0,\n",
    "                                '2023-05-25': 0},\n",
    "                        'motm-vote': {},\n",
    "                        'motm': {}       \n",
    "                            },\n",
    "\n",
    "     462654687225708555 : {'Name': ['tk', 'thomas'],\n",
    "                        'avaliability': {'2023-06-01': 'yes',\n",
    "                                        '2023-05-25': 'yes'},\n",
    "                        'paid': {'2023-06-01': True,\n",
    "                                        '2023-05-25': True},\n",
    "                        'goal': {'2023-06-01': 1,\n",
    "                                '2023-05-25': 1},\n",
    "                        'assist': {'2023-06-01': 0,\n",
    "                                '2023-05-25': 0},\n",
    "                        'motm-vote': {},\n",
    "                        'motm': {}     \n",
    "                            },\n",
    "\n",
    "     265576326788808704 : {'Name': ['jack'],\n",
    "                        'avaliability': {'2023-06-01': 'yes',\n",
    "                                        '2023-05-25': 'yes'},\n",
    "                        'paid': {'2023-06-01': True,\n",
    "                                        '2023-05-25': True},\n",
    "                        'goal': {'2023-06-01': 0,\n",
    "                                '2023-05-25': 0},\n",
    "                        'assist': {'2023-06-01': 0,\n",
    "                                '2023-05-25': 0},\n",
    "                        'motm-vote': {},\n",
    "                        'motm': {}       \n",
    "                            }\n",
    "\n",
    "     }"
   ]
  },
  {
   "cell_type": "code",
   "execution_count": 1,
   "metadata": {},
   "outputs": [],
   "source": [
    "import json\n",
    "\n",
    "# read data from json\n",
    "path = '//TRUENAS/Misc_storage/5aside_discord_bot/user_data/team_data.json'\n",
    "\n",
    "with open(path, 'r') as f:\n",
    "    data = json.load(f)\n",
    "\n",
    "# save data to json\n",
    "# with open(path, 'w') as f:\n",
    "#     json.dump(x, f, indent=4)\n",
    "\n",
    "\n"
   ]
  },
  {
   "cell_type": "code",
   "execution_count": 12,
   "metadata": {},
   "outputs": [
    {
     "name": "stdout",
     "output_type": "stream",
     "text": [
      "The autoreload extension is already loaded. To reload it, use:\n",
      "  %reload_ext autoreload\n",
      "dict_keys(['adam', 'matty', 'tommy', 'noz', 'tom', 'tk', 'jack'])\n"
     ]
    }
   ],
   "source": [
    "# autoreload modules\n",
    "%load_ext autoreload\n",
    "%autoreload 2\n",
    "\n",
    "from player import Player\n",
    "\n",
    "team = {}\n",
    "\n",
    "for id, val in data.items():\n",
    "\n",
    "    user = Player(name = val['Name'], \n",
    "                id = id,\n",
    "                availability = val['avaliability'],\n",
    "                paid = val['paid'],\n",
    "                goal = val['goal'],\n",
    "                assist = val['assist'],\n",
    "                motm_vote = val['motm-vote'],\n",
    "                motm = val['motm'],\n",
    "                )\n",
    "    \n",
    "    team[user.name[0]] = user\n",
    "\n",
    "print(team.keys())"
   ]
  },
  {
   "cell_type": "code",
   "execution_count": 15,
   "metadata": {},
   "outputs": [],
   "source": [
    "# extract data from player class to json file\n",
    "data_out = {}\n",
    "for name, val in team.items():\n",
    "    data_out[val.id] = {}\n",
    "    data_out[val.id]['Name'] = val.name\n",
    "    data_out[val.id]['avaliability'] = val.availability\n",
    "    data_out[val.id]['paid'] = val.paid\n",
    "    data_out[val.id]['goal'] = val.goal\n",
    "    data_out[val.id]['assist'] = val.assist\n",
    "    data_out[val.id]['motm-vote'] = val.motm_vote\n",
    "    data_out[val.id]['motm'] = val.motm"
   ]
  },
  {
   "cell_type": "code",
   "execution_count": 16,
   "metadata": {},
   "outputs": [
    {
     "data": {
      "text/plain": [
       "True"
      ]
     },
     "execution_count": 16,
     "metadata": {},
     "output_type": "execute_result"
    }
   ],
   "source": [
    "\n",
    "data == data_out\n"
   ]
  },
  {
   "cell_type": "code",
   "execution_count": 18,
   "metadata": {},
   "outputs": [
    {
     "data": {
      "text/plain": [
       "{'Name': ['adam'],\n",
       " 'avaliability': {'2023-06-01': 'yes', '2023-05-25': 'yes'},\n",
       " 'paid': {'2023-06-01': True, '2023-05-25': True},\n",
       " 'goal': {'2023-06-01': 0, '2023-05-25': 0},\n",
       " 'assist': {'2023-06-01': 0, '2023-05-25': 0},\n",
       " 'motm-vote': {},\n",
       " 'motm': {}}"
      ]
     },
     "execution_count": 18,
     "metadata": {},
     "output_type": "execute_result"
    }
   ],
   "source": [
    "data_out['184737297734959104']"
   ]
  }
 ],
 "metadata": {
  "kernelspec": {
   "display_name": "discord",
   "language": "python",
   "name": "python3"
  },
  "language_info": {
   "codemirror_mode": {
    "name": "ipython",
    "version": 3
   },
   "file_extension": ".py",
   "mimetype": "text/x-python",
   "name": "python",
   "nbconvert_exporter": "python",
   "pygments_lexer": "ipython3",
   "version": "3.11.3"
  },
  "orig_nbformat": 4
 },
 "nbformat": 4,
 "nbformat_minor": 2
}
